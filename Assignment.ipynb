{
 "cells": [
  {
   "cell_type": "code",
   "execution_count": null,
   "id": "a819dbc3",
   "metadata": {},
   "outputs": [],
   "source": [
    "## 스켈레톤 코드\n",
    "\n",
    "## importing library\n",
    "import requests\n",
    "import pandas as pd\n",
    "from bs4 import BeautifulSoup\n",
    "import bs4\n",
    "import json\n",
    "\n",
    "## 키 값을 가져오고 그 키값을 통해서 크롤링 위치로 이동합니다. parameter = {\"directorNm: \"}을 통해서 봉준호 감독의 작품만을 얻어옵니다.\n",
    " ## 코드 작성 1\n",
    "## key 작성\n",
    "\n",
    "key = '97d3bd242902fe1d3ce040690de00cc9'\n",
    "\n",
    "## url 작성\n",
    "url = \"http://kobis.or.kr/kobisopenapi/webservice/rest/movie/searchMovieList.json?key=\" + key\n",
    "\n",
    "\n",
    "## parameter 작성\n",
    "parameter = {\"directorName\": \"봉준호\"}\n",
    "\n",
    "\n",
    "## request 작성\n",
    "\n",
    "save = requests.get(url, parameter)\n",
    "\n",
    "\n",
    "\n",
    "# request 받아온 내용을 json 파일로 변경해주세요 -> .json 사용\n",
    "# 그 결과를 html이라는 변수에 담아주세요.\n",
    " ## 코드 작성 2\n",
    "## json형식으로 request 를 받아주세요 변수명은 html로 해주시면 좋을 것 같아요.\n",
    "\n",
    "html= save.json()\n",
    "\n",
    "html\n",
    "\n",
    "\n",
    "DF = pd.DataFrame(html['movieListResult'][\"movieList\"])\n",
    "## 연도로 다시 정렬\n",
    "DF = DF.sort_values(\"prdtYear\")\n",
    "\n",
    "## 컬럼 형식 바꾸기\n",
    "DF['directors'] = DF['directors'].apply(lambda x : x[0]['peopleNm'])\n",
    "DF['companys'] = DF['companys'].apply(lambda x : x[0]['companyNm'] if x else x)\n",
    "\n",
    "DF"
   ]
  },
  {
   "cell_type": "code",
   "execution_count": null,
   "id": "9ee72349",
   "metadata": {},
   "outputs": [],
   "source": []
  }
 ],
 "metadata": {
  "kernelspec": {
   "display_name": "Python 3 (ipykernel)",
   "language": "python",
   "name": "python3"
  }
 },
 "nbformat": 4,
 "nbformat_minor": 5
}
